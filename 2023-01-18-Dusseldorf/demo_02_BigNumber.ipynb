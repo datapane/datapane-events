{
 "cells": [
  {
   "cell_type": "code",
   "execution_count": 1,
   "metadata": {
    "colab": {
     "base_uri": "https://localhost:8080/",
     "height": 866
    },
    "id": "dKFJqlzWZ_rw",
    "outputId": "dc2e3b59-be02-4d81-a015-613e893f6470"
   },
   "outputs": [],
   "source": [
    "# !pip install -q datapane\n",
    "import datapane as dp"
   ]
  },
  {
   "cell_type": "code",
   "execution_count": 2,
   "metadata": {
    "id": "aSrV4eH9aDq0"
   },
   "outputs": [
    {
     "data": {
      "text/html": [
       "<style>\n",
       "  #dp-479076a1ae5c4eb193dcb3614d01666c {\n",
       "    width: 1px;\n",
       "    min-width: 100%;\n",
       "  }\n",
       "</style>\n",
       "<script src=\"https://cdnjs.cloudflare.com/ajax/libs/iframe-resizer/4.3.2/iframeResizer.min.js\" integrity=\"sha512-dnvR4Aebv5bAtJxDunq3eE8puKAJrY9GBJYl9GC6lTOEC76s1dbDfJFcL9GyzpaDW4vlI/UjR8sKbc1j6Ynx6w==\" crossorigin=\"anonymous\" referrerpolicy=\"no-referrer\"></script>\n",
       "<iframe id=\"dp-479076a1ae5c4eb193dcb3614d01666c\" srcdoc=\"&lt;!DOCTYPE html&gt;\n",
       "&lt;html lang=&#34;en&#34;&gt;\n",
       "  &lt;head&gt;\n",
       "    &lt;meta charset=&#34;UTF-8&#34; /&gt;\n",
       "    &lt;script src=&#34;https://kit.fontawesome.com/256c714d9a.js&#34;&gt;&lt;/script&gt;\n",
       "    &lt;link\n",
       "      href=&#34;https://fonts.googleapis.com/css?family=Inter:400,500,600,700|Inconsolata|Karla|Rubik&amp;display=swap&#34;\n",
       "      rel=&#34;stylesheet&#34;\n",
       "    /&gt;\n",
       "    &lt;script&gt;\n",
       "      window.dpLocal = true;\n",
       "      \n",
       "        window.dpLocalViewEvent = true;\n",
       "        window.dpReportId = &#34;479076a1ae5c4eb193dcb3614d01666c&#34;;\n",
       "        window.dpAuthorId = &#34;92bdd7ef127b444a949a7ea6188d4856&#34;;\n",
       "      \n",
       "    &lt;/script&gt;\n",
       "    \n",
       "      &lt;link rel=&#34;stylesheet&#34; href=&#34;https://datapane-cdn.com/v0.15.5/report/style.css&#34;&gt;\n",
       "    \n",
       "    &lt;script&gt;\n",
       "      const report = { document: &#34;\\u003cReport version=\\&#34;1\\&#34;\\u003e\\u003cMeta\\u003e\\u003cAuthor\\u003eAnonymous\\u003c/Author\\u003e\\u003cCreatedOn\\u003e2023-01-18T12:59:44Z\\u003c/CreatedOn\\u003e\\u003cTitle\\u003eStringified App\\u003c/Title\\u003e\\u003cDescription\\u003e\\u003c![CDATA[Description]]\\u003e\\u003c/Description\\u003e\\u003c/Meta\\u003e\\u003cInternal/\\u003e\\u003cPages\\u003e\\u003cPage\\u003e\\u003cBigNumber heading=\\&#34;Simple Statistic\\&#34; value=\\&#34;100\\&#34; is_positive_intent=\\&#34;false\\&#34; is_upward_change=\\&#34;false\\&#34;/\\u003e\\u003c/Page\\u003e\\u003c/Pages\\u003e\\u003c/Report\\u003e&#34;, width: &#34;&#34;, output_is_light_prose: false };\n",
       "      const htmlHeader = `&lt;style type=&#34;text/css&#34;&gt;:root {\n",
       "    --dp-accent-color: #4E46E5;\n",
       "    --dp-bg-color: #FFF;\n",
       "    --dp-text-align: justify;\n",
       "    --dp-font-family: Inter var, ui-sans-serif, system-ui;\n",
       "}&lt;/style&gt;`;\n",
       "      window.reportProps = { report, htmlHeader };\n",
       "    &lt;/script&gt;\n",
       "    \n",
       "      &lt;script type=&#34;module&#34;&gt;\n",
       "        import { mountReport } from &#34;https://datapane-cdn.com/v0.15.5/report/index.es.js&#34;;\n",
       "        mountReport(window.reportProps);\n",
       "      &lt;/script&gt;\n",
       "    \n",
       "  &lt;/head&gt;\n",
       "  &lt;body&gt;\n",
       "    &lt;main class=&#34;max-w-screen-xl w-full mx-auto&#34;&gt;\n",
       "      &lt;div id=&#34;report&#34; class=&#34;w-full&#34;&gt;&lt;/div&gt;\n",
       "    &lt;/main&gt;\n",
       "    &lt;script src=&#34;https://cdnjs.cloudflare.com/ajax/libs/iframe-resizer/4.3.2/iframeResizer.contentWindow.min.js&#34; integrity=&#34;sha512-14SY6teTzhrLWeL55Q4uCyxr6GQOxF3pEoMxo2mBxXwPRikdMtzKMYWy2B5Lqjr6PHHoGOxZgPaxUYKQrSmu0A==&#34; crossorigin=&#34;anonymous&#34; referrerpolicy=&#34;no-referrer&#34;&gt;&lt;/script&gt;  &lt;/body&gt;\n",
       "&lt;/html&gt;\" style=\"border:none;\"></iframe>\n",
       "<script>\n",
       "  iFrameResize({ log: true, checkOrigin: false }, '#dp-479076a1ae5c4eb193dcb3614d01666c')\n",
       "</script>"
      ],
      "text/plain": [
       "<IPython.core.display.HTML object>"
      ]
     },
     "metadata": {},
     "output_type": "display_data"
    }
   ],
   "source": [
    "# Show a simple number\n",
    "dp.BigNumber(heading=\"Simple Statistic\", value=100)"
   ]
  },
  {
   "cell_type": "code",
   "execution_count": 3,
   "metadata": {
    "id": "6nPz8dECaDxk"
   },
   "outputs": [
    {
     "data": {
      "text/html": [
       "<style>\n",
       "  #dp-2ba4e2db0502422b84025763e7da3830 {\n",
       "    width: 1px;\n",
       "    min-width: 100%;\n",
       "  }\n",
       "</style>\n",
       "<script src=\"https://cdnjs.cloudflare.com/ajax/libs/iframe-resizer/4.3.2/iframeResizer.min.js\" integrity=\"sha512-dnvR4Aebv5bAtJxDunq3eE8puKAJrY9GBJYl9GC6lTOEC76s1dbDfJFcL9GyzpaDW4vlI/UjR8sKbc1j6Ynx6w==\" crossorigin=\"anonymous\" referrerpolicy=\"no-referrer\"></script>\n",
       "<iframe id=\"dp-2ba4e2db0502422b84025763e7da3830\" srcdoc=\"&lt;!DOCTYPE html&gt;\n",
       "&lt;html lang=&#34;en&#34;&gt;\n",
       "  &lt;head&gt;\n",
       "    &lt;meta charset=&#34;UTF-8&#34; /&gt;\n",
       "    &lt;script src=&#34;https://kit.fontawesome.com/256c714d9a.js&#34;&gt;&lt;/script&gt;\n",
       "    &lt;link\n",
       "      href=&#34;https://fonts.googleapis.com/css?family=Inter:400,500,600,700|Inconsolata|Karla|Rubik&amp;display=swap&#34;\n",
       "      rel=&#34;stylesheet&#34;\n",
       "    /&gt;\n",
       "    &lt;script&gt;\n",
       "      window.dpLocal = true;\n",
       "      \n",
       "        window.dpLocalViewEvent = true;\n",
       "        window.dpReportId = &#34;2ba4e2db0502422b84025763e7da3830&#34;;\n",
       "        window.dpAuthorId = &#34;92bdd7ef127b444a949a7ea6188d4856&#34;;\n",
       "      \n",
       "    &lt;/script&gt;\n",
       "    \n",
       "      &lt;link rel=&#34;stylesheet&#34; href=&#34;https://datapane-cdn.com/v0.15.5/report/style.css&#34;&gt;\n",
       "    \n",
       "    &lt;script&gt;\n",
       "      const report = { document: &#34;\\u003cReport version=\\&#34;1\\&#34;\\u003e\\u003cMeta\\u003e\\u003cAuthor\\u003eAnonymous\\u003c/Author\\u003e\\u003cCreatedOn\\u003e2023-01-18T12:59:44Z\\u003c/CreatedOn\\u003e\\u003cTitle\\u003eStringified App\\u003c/Title\\u003e\\u003cDescription\\u003e\\u003c![CDATA[Description]]\\u003e\\u003c/Description\\u003e\\u003c/Meta\\u003e\\u003cInternal/\\u003e\\u003cPages\\u003e\\u003cPage\\u003e\\u003cBigNumber heading=\\&#34;Simple Text\\&#34; value=\\&#34;Hello, World! \\ud83d\\udc4b\\&#34; is_positive_intent=\\&#34;false\\&#34; is_upward_change=\\&#34;false\\&#34;/\\u003e\\u003c/Page\\u003e\\u003c/Pages\\u003e\\u003c/Report\\u003e&#34;, width: &#34;&#34;, output_is_light_prose: false };\n",
       "      const htmlHeader = `&lt;style type=&#34;text/css&#34;&gt;:root {\n",
       "    --dp-accent-color: #4E46E5;\n",
       "    --dp-bg-color: #FFF;\n",
       "    --dp-text-align: justify;\n",
       "    --dp-font-family: Inter var, ui-sans-serif, system-ui;\n",
       "}&lt;/style&gt;`;\n",
       "      window.reportProps = { report, htmlHeader };\n",
       "    &lt;/script&gt;\n",
       "    \n",
       "      &lt;script type=&#34;module&#34;&gt;\n",
       "        import { mountReport } from &#34;https://datapane-cdn.com/v0.15.5/report/index.es.js&#34;;\n",
       "        mountReport(window.reportProps);\n",
       "      &lt;/script&gt;\n",
       "    \n",
       "  &lt;/head&gt;\n",
       "  &lt;body&gt;\n",
       "    &lt;main class=&#34;max-w-screen-xl w-full mx-auto&#34;&gt;\n",
       "      &lt;div id=&#34;report&#34; class=&#34;w-full&#34;&gt;&lt;/div&gt;\n",
       "    &lt;/main&gt;\n",
       "    &lt;script src=&#34;https://cdnjs.cloudflare.com/ajax/libs/iframe-resizer/4.3.2/iframeResizer.contentWindow.min.js&#34; integrity=&#34;sha512-14SY6teTzhrLWeL55Q4uCyxr6GQOxF3pEoMxo2mBxXwPRikdMtzKMYWy2B5Lqjr6PHHoGOxZgPaxUYKQrSmu0A==&#34; crossorigin=&#34;anonymous&#34; referrerpolicy=&#34;no-referrer&#34;&gt;&lt;/script&gt;  &lt;/body&gt;\n",
       "&lt;/html&gt;\" style=\"border:none;\"></iframe>\n",
       "<script>\n",
       "  iFrameResize({ log: true, checkOrigin: false }, '#dp-2ba4e2db0502422b84025763e7da3830')\n",
       "</script>"
      ],
      "text/plain": [
       "<IPython.core.display.HTML object>"
      ]
     },
     "metadata": {},
     "output_type": "display_data"
    }
   ],
   "source": [
    "# Show a simple text\n",
    "dp.BigNumber(heading=\"Simple Text\", value=\"Hello, World! 👋\")"
   ]
  },
  {
   "cell_type": "code",
   "execution_count": 4,
   "metadata": {
    "id": "3gZutvGDcVsI"
   },
   "outputs": [
    {
     "data": {
      "text/html": [
       "<style>\n",
       "  #dp-012d0be686bd4865b899b27e73548978 {\n",
       "    width: 1px;\n",
       "    min-width: 100%;\n",
       "  }\n",
       "</style>\n",
       "<script src=\"https://cdnjs.cloudflare.com/ajax/libs/iframe-resizer/4.3.2/iframeResizer.min.js\" integrity=\"sha512-dnvR4Aebv5bAtJxDunq3eE8puKAJrY9GBJYl9GC6lTOEC76s1dbDfJFcL9GyzpaDW4vlI/UjR8sKbc1j6Ynx6w==\" crossorigin=\"anonymous\" referrerpolicy=\"no-referrer\"></script>\n",
       "<iframe id=\"dp-012d0be686bd4865b899b27e73548978\" srcdoc=\"&lt;!DOCTYPE html&gt;\n",
       "&lt;html lang=&#34;en&#34;&gt;\n",
       "  &lt;head&gt;\n",
       "    &lt;meta charset=&#34;UTF-8&#34; /&gt;\n",
       "    &lt;script src=&#34;https://kit.fontawesome.com/256c714d9a.js&#34;&gt;&lt;/script&gt;\n",
       "    &lt;link\n",
       "      href=&#34;https://fonts.googleapis.com/css?family=Inter:400,500,600,700|Inconsolata|Karla|Rubik&amp;display=swap&#34;\n",
       "      rel=&#34;stylesheet&#34;\n",
       "    /&gt;\n",
       "    &lt;script&gt;\n",
       "      window.dpLocal = true;\n",
       "      \n",
       "        window.dpLocalViewEvent = true;\n",
       "        window.dpReportId = &#34;012d0be686bd4865b899b27e73548978&#34;;\n",
       "        window.dpAuthorId = &#34;92bdd7ef127b444a949a7ea6188d4856&#34;;\n",
       "      \n",
       "    &lt;/script&gt;\n",
       "    \n",
       "      &lt;link rel=&#34;stylesheet&#34; href=&#34;https://datapane-cdn.com/v0.15.5/report/style.css&#34;&gt;\n",
       "    \n",
       "    &lt;script&gt;\n",
       "      const report = { document: &#34;\\u003cReport version=\\&#34;1\\&#34;\\u003e\\u003cMeta\\u003e\\u003cAuthor\\u003eAnonymous\\u003c/Author\\u003e\\u003cCreatedOn\\u003e2023-01-18T12:59:44Z\\u003c/CreatedOn\\u003e\\u003cTitle\\u003eStringified App\\u003c/Title\\u003e\\u003cDescription\\u003e\\u003c![CDATA[Description]]\\u003e\\u003c/Description\\u003e\\u003c/Meta\\u003e\\u003cInternal/\\u003e\\u003cPages\\u003e\\u003cPage\\u003e\\u003cGroup columns=\\&#34;2\\&#34;\\u003e\\u003cBigNumber heading=\\&#34;Simple Statistic\\&#34; value=\\&#34;100\\&#34; is_positive_intent=\\&#34;false\\&#34; is_upward_change=\\&#34;false\\&#34;/\\u003e\\u003cBigNumber heading=\\&#34;Simple Text\\&#34; value=\\&#34;Hello, World! \\ud83d\\udc4b\\&#34; is_positive_intent=\\&#34;false\\&#34; is_upward_change=\\&#34;false\\&#34;/\\u003e\\u003c/Group\\u003e\\u003c/Page\\u003e\\u003c/Pages\\u003e\\u003c/Report\\u003e&#34;, width: &#34;&#34;, output_is_light_prose: false };\n",
       "      const htmlHeader = `&lt;style type=&#34;text/css&#34;&gt;:root {\n",
       "    --dp-accent-color: #4E46E5;\n",
       "    --dp-bg-color: #FFF;\n",
       "    --dp-text-align: justify;\n",
       "    --dp-font-family: Inter var, ui-sans-serif, system-ui;\n",
       "}&lt;/style&gt;`;\n",
       "      window.reportProps = { report, htmlHeader };\n",
       "    &lt;/script&gt;\n",
       "    \n",
       "      &lt;script type=&#34;module&#34;&gt;\n",
       "        import { mountReport } from &#34;https://datapane-cdn.com/v0.15.5/report/index.es.js&#34;;\n",
       "        mountReport(window.reportProps);\n",
       "      &lt;/script&gt;\n",
       "    \n",
       "  &lt;/head&gt;\n",
       "  &lt;body&gt;\n",
       "    &lt;main class=&#34;max-w-screen-xl w-full mx-auto&#34;&gt;\n",
       "      &lt;div id=&#34;report&#34; class=&#34;w-full&#34;&gt;&lt;/div&gt;\n",
       "    &lt;/main&gt;\n",
       "    &lt;script src=&#34;https://cdnjs.cloudflare.com/ajax/libs/iframe-resizer/4.3.2/iframeResizer.contentWindow.min.js&#34; integrity=&#34;sha512-14SY6teTzhrLWeL55Q4uCyxr6GQOxF3pEoMxo2mBxXwPRikdMtzKMYWy2B5Lqjr6PHHoGOxZgPaxUYKQrSmu0A==&#34; crossorigin=&#34;anonymous&#34; referrerpolicy=&#34;no-referrer&#34;&gt;&lt;/script&gt;  &lt;/body&gt;\n",
       "&lt;/html&gt;\" style=\"border:none;\"></iframe>\n",
       "<script>\n",
       "  iFrameResize({ log: true, checkOrigin: false }, '#dp-012d0be686bd4865b899b27e73548978')\n",
       "</script>"
      ],
      "text/plain": [
       "<IPython.core.display.HTML object>"
      ]
     },
     "metadata": {},
     "output_type": "display_data"
    }
   ],
   "source": [
    "# Show information in groups using dp.Group(...)\n",
    "dp.Group(\n",
    "    dp.BigNumber(heading=\"Simple Statistic\", value=100),\n",
    "    dp.BigNumber(heading=\"Simple Text\", value=\"Hello, World! 👋\"),\n",
    "    columns=2\n",
    ")"
   ]
  },
  {
   "cell_type": "code",
   "execution_count": 5,
   "metadata": {
    "id": "5ai1jl_SaD3P"
   },
   "outputs": [
    {
     "data": {
      "text/html": [
       "<style>\n",
       "  #dp-7747fe8a26084ca2a81a096cbd0d7a8c {\n",
       "    width: 1px;\n",
       "    min-width: 100%;\n",
       "  }\n",
       "</style>\n",
       "<script src=\"https://cdnjs.cloudflare.com/ajax/libs/iframe-resizer/4.3.2/iframeResizer.min.js\" integrity=\"sha512-dnvR4Aebv5bAtJxDunq3eE8puKAJrY9GBJYl9GC6lTOEC76s1dbDfJFcL9GyzpaDW4vlI/UjR8sKbc1j6Ynx6w==\" crossorigin=\"anonymous\" referrerpolicy=\"no-referrer\"></script>\n",
       "<iframe id=\"dp-7747fe8a26084ca2a81a096cbd0d7a8c\" srcdoc=\"&lt;!DOCTYPE html&gt;\n",
       "&lt;html lang=&#34;en&#34;&gt;\n",
       "  &lt;head&gt;\n",
       "    &lt;meta charset=&#34;UTF-8&#34; /&gt;\n",
       "    &lt;script src=&#34;https://kit.fontawesome.com/256c714d9a.js&#34;&gt;&lt;/script&gt;\n",
       "    &lt;link\n",
       "      href=&#34;https://fonts.googleapis.com/css?family=Inter:400,500,600,700|Inconsolata|Karla|Rubik&amp;display=swap&#34;\n",
       "      rel=&#34;stylesheet&#34;\n",
       "    /&gt;\n",
       "    &lt;script&gt;\n",
       "      window.dpLocal = true;\n",
       "      \n",
       "        window.dpLocalViewEvent = true;\n",
       "        window.dpReportId = &#34;7747fe8a26084ca2a81a096cbd0d7a8c&#34;;\n",
       "        window.dpAuthorId = &#34;92bdd7ef127b444a949a7ea6188d4856&#34;;\n",
       "      \n",
       "    &lt;/script&gt;\n",
       "    \n",
       "      &lt;link rel=&#34;stylesheet&#34; href=&#34;https://datapane-cdn.com/v0.15.5/report/style.css&#34;&gt;\n",
       "    \n",
       "    &lt;script&gt;\n",
       "      const report = { document: &#34;\\u003cReport version=\\&#34;1\\&#34;\\u003e\\u003cMeta\\u003e\\u003cAuthor\\u003eAnonymous\\u003c/Author\\u003e\\u003cCreatedOn\\u003e2023-01-18T12:59:44Z\\u003c/CreatedOn\\u003e\\u003cTitle\\u003eStringified App\\u003c/Title\\u003e\\u003cDescription\\u003e\\u003c![CDATA[Description]]\\u003e\\u003c/Description\\u003e\\u003c/Meta\\u003e\\u003cInternal/\\u003e\\u003cPages\\u003e\\u003cPage\\u003e\\u003cGroup columns=\\&#34;3\\&#34;\\u003e\\u003cBigNumber heading=\\&#34;S\\u0026amp;P 500\\&#34; value=\\&#34;4,043.21\\&#34; change=\\&#34;+23.56 / +0.59%\\&#34; is_positive_intent=\\&#34;true\\&#34; is_upward_change=\\&#34;true\\&#34;/\\u003e\\u003cBigNumber heading=\\&#34;DJI\\&#34; value=\\&#34;34,313.99\\&#34; change=\\&#34;+205.35 / +0.60%\\&#34; is_positive_intent=\\&#34;true\\&#34; is_upward_change=\\&#34;true\\&#34;/\\u003e\\u003cBigNumber heading=\\&#34;FTSE 100\\&#34; value=\\&#34;7,497.35\\&#34; change=\\&#34;-5.54 / -0.074%\\&#34; is_positive_intent=\\&#34;false\\&#34; is_upward_change=\\&#34;false\\&#34;/\\u003e\\u003c/Group\\u003e\\u003c/Page\\u003e\\u003c/Pages\\u003e\\u003c/Report\\u003e&#34;, width: &#34;&#34;, output_is_light_prose: false };\n",
       "      const htmlHeader = `&lt;style type=&#34;text/css&#34;&gt;:root {\n",
       "    --dp-accent-color: #4E46E5;\n",
       "    --dp-bg-color: #FFF;\n",
       "    --dp-text-align: justify;\n",
       "    --dp-font-family: Inter var, ui-sans-serif, system-ui;\n",
       "}&lt;/style&gt;`;\n",
       "      window.reportProps = { report, htmlHeader };\n",
       "    &lt;/script&gt;\n",
       "    \n",
       "      &lt;script type=&#34;module&#34;&gt;\n",
       "        import { mountReport } from &#34;https://datapane-cdn.com/v0.15.5/report/index.es.js&#34;;\n",
       "        mountReport(window.reportProps);\n",
       "      &lt;/script&gt;\n",
       "    \n",
       "  &lt;/head&gt;\n",
       "  &lt;body&gt;\n",
       "    &lt;main class=&#34;max-w-screen-xl w-full mx-auto&#34;&gt;\n",
       "      &lt;div id=&#34;report&#34; class=&#34;w-full&#34;&gt;&lt;/div&gt;\n",
       "    &lt;/main&gt;\n",
       "    &lt;script src=&#34;https://cdnjs.cloudflare.com/ajax/libs/iframe-resizer/4.3.2/iframeResizer.contentWindow.min.js&#34; integrity=&#34;sha512-14SY6teTzhrLWeL55Q4uCyxr6GQOxF3pEoMxo2mBxXwPRikdMtzKMYWy2B5Lqjr6PHHoGOxZgPaxUYKQrSmu0A==&#34; crossorigin=&#34;anonymous&#34; referrerpolicy=&#34;no-referrer&#34;&gt;&lt;/script&gt;  &lt;/body&gt;\n",
       "&lt;/html&gt;\" style=\"border:none;\"></iframe>\n",
       "<script>\n",
       "  iFrameResize({ log: true, checkOrigin: false }, '#dp-7747fe8a26084ca2a81a096cbd0d7a8c')\n",
       "</script>"
      ],
      "text/plain": [
       "<IPython.core.display.HTML object>"
      ]
     },
     "metadata": {},
     "output_type": "display_data"
    }
   ],
   "source": [
    "# Simple numbers with change indicators\n",
    "dp.Group(\n",
    "    dp.BigNumber(heading=\"S&P 500\", value=\"4,043.21\", \n",
    "                 change=\"+23.56 / +0.59%\", is_upward_change=True),\n",
    "    dp.BigNumber(heading=\"DJI\", value=\"34,313.99\", \n",
    "                 change=\"+205.35 / +0.60%\", is_upward_change=True),\n",
    "    dp.BigNumber(heading=\"FTSE 100\", value=\"7,497.35\", \n",
    "                 change=\"-5.54 / -0.074%\", is_upward_change=False),     \n",
    "    columns=3\n",
    ")"
   ]
  }
 ],
 "metadata": {
  "colab": {
   "provenance": []
  },
  "kernelspec": {
   "display_name": "Python 3 (ipykernel)",
   "language": "python",
   "name": "python3"
  },
  "language_info": {
   "codemirror_mode": {
    "name": "ipython",
    "version": 3
   },
   "file_extension": ".py",
   "mimetype": "text/x-python",
   "name": "python",
   "nbconvert_exporter": "python",
   "pygments_lexer": "ipython3",
   "version": "3.9.6"
  }
 },
 "nbformat": 4,
 "nbformat_minor": 4
}
